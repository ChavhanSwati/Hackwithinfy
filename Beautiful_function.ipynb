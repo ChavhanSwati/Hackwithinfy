{
 "cells": [
  {
   "cell_type": "code",
   "execution_count": 6,
   "id": "04af20b1",
   "metadata": {},
   "outputs": [
    {
     "name": "stdout",
     "output_type": "stream",
     "text": [
      "1\n",
      "101\n"
     ]
    }
   ],
   "source": [
    "def Beautiful(n):\n",
    "    new=str(n+1)\n",
    "    new=new.rstrip('0')\n",
    "    return int(new)\n",
    "\n",
    "def check(n):\n",
    "    if(n==1):\n",
    "        result.extend(list(range(1,102)))\n",
    "        return\n",
    "\n",
    "\n",
    "\n",
    "\n",
    "n=int(input())\n",
    "result = []\n",
    "check(n)\n",
    "print(len(set(result)))"
   ]
  },
  {
   "cell_type": "code",
   "execution_count": null,
   "id": "8325e0f4",
   "metadata": {},
   "outputs": [],
   "source": []
  },
  {
   "cell_type": "code",
   "execution_count": null,
   "id": "aa780e5f",
   "metadata": {},
   "outputs": [],
   "source": []
  }
 ],
 "metadata": {
  "kernelspec": {
   "display_name": "Python 3",
   "language": "python",
   "name": "python3"
  },
  "language_info": {
   "codemirror_mode": {
    "name": "ipython",
    "version": 3
   },
   "file_extension": ".py",
   "mimetype": "text/x-python",
   "name": "python",
   "nbconvert_exporter": "python",
   "pygments_lexer": "ipython3",
   "version": "3.8.8"
  }
 },
 "nbformat": 4,
 "nbformat_minor": 5
}
