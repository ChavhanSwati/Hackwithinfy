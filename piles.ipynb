{
 "cells": [
  {
   "cell_type": "code",
   "execution_count": null,
   "id": "74fa8c63",
   "metadata": {},
   "outputs": [
    {
     "name": "stdout",
     "output_type": "stream",
     "text": [
      "4\n",
      "2 4 2 6 2\n",
      "YES\n",
      "6 5 2 12 1\n",
      "NO\n"
     ]
    }
   ],
   "source": [
    "Test_case=int(input())\n",
    "while(Test_case>0):\n",
    "    a,b,c,x,y= (int(i) for i in input().split())\n",
    "    if(a+b+c) != (x+y):\n",
    "        print(\"NO\")\n",
    "    elif x<min(a,b,c) or y<min(a,b,c):\n",
    "        print(\"NO\")\n",
    "    else:\n",
    "        print(\"YES\")\n",
    "    Test_case-=1"
   ]
  },
  {
   "cell_type": "code",
   "execution_count": null,
   "id": "36bfcb02",
   "metadata": {},
   "outputs": [],
   "source": []
  }
 ],
 "metadata": {
  "kernelspec": {
   "display_name": "Python 3",
   "language": "python",
   "name": "python3"
  },
  "language_info": {
   "codemirror_mode": {
    "name": "ipython",
    "version": 3
   },
   "file_extension": ".py",
   "mimetype": "text/x-python",
   "name": "python",
   "nbconvert_exporter": "python",
   "pygments_lexer": "ipython3",
   "version": "3.8.8"
  }
 },
 "nbformat": 4,
 "nbformat_minor": 5
}
